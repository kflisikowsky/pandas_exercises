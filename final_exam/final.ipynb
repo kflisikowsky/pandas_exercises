{
 "cells": [
  {
   "cell_type": "code",
   "execution_count": 4,
   "id": "b1b79d3e",
   "metadata": {},
   "outputs": [
    {
     "data": {
      "application/vnd.microsoft.datawrangler.viewer.v0+json": {
       "columns": [
        {
         "name": "index",
         "rawType": "int64",
         "type": "integer"
        },
        {
         "name": "pizza",
         "rawType": "int64",
         "type": "integer"
        },
        {
         "name": "gender",
         "rawType": "int64",
         "type": "integer"
        },
        {
         "name": "city",
         "rawType": "int64",
         "type": "integer"
        },
        {
         "name": "college",
         "rawType": "int64",
         "type": "integer"
        },
        {
         "name": "satisfaction",
         "rawType": "int64",
         "type": "integer"
        },
        {
         "name": "income",
         "rawType": "int64",
         "type": "integer"
        },
        {
         "name": "age",
         "rawType": "int64",
         "type": "integer"
        },
        {
         "name": "type",
         "rawType": "object",
         "type": "string"
        }
       ],
       "ref": "3a1bb9bd-f681-4ec0-baf0-44c0c22b7d21",
       "rows": [
        [
         "0",
         "109",
         "1",
         "0",
         "0",
         "5",
         "25000",
         "25",
         "margharita"
        ],
        [
         "1",
         "150",
         "1",
         "0",
         "0",
         "2",
         "30000",
         "45",
         "hawaii"
        ],
        [
         "2",
         "250",
         "1",
         "0",
         "0",
         "1",
         "22000",
         "20",
         "carbonara"
        ],
        [
         "3",
         "108",
         "1",
         "0",
         "1",
         "5",
         "20000",
         "28",
         "frutti di mare"
        ],
        [
         "4",
         "220",
         "1",
         "1",
         "1",
         "9",
         "25000",
         "25",
         "margharita"
        ]
       ],
       "shape": {
        "columns": 8,
        "rows": 5
       }
      },
      "text/html": [
       "<div>\n",
       "<style scoped>\n",
       "    .dataframe tbody tr th:only-of-type {\n",
       "        vertical-align: middle;\n",
       "    }\n",
       "\n",
       "    .dataframe tbody tr th {\n",
       "        vertical-align: top;\n",
       "    }\n",
       "\n",
       "    .dataframe thead th {\n",
       "        text-align: right;\n",
       "    }\n",
       "</style>\n",
       "<table border=\"1\" class=\"dataframe\">\n",
       "  <thead>\n",
       "    <tr style=\"text-align: right;\">\n",
       "      <th></th>\n",
       "      <th>pizza</th>\n",
       "      <th>gender</th>\n",
       "      <th>city</th>\n",
       "      <th>college</th>\n",
       "      <th>satisfaction</th>\n",
       "      <th>income</th>\n",
       "      <th>age</th>\n",
       "      <th>type</th>\n",
       "    </tr>\n",
       "  </thead>\n",
       "  <tbody>\n",
       "    <tr>\n",
       "      <th>0</th>\n",
       "      <td>109</td>\n",
       "      <td>1</td>\n",
       "      <td>0</td>\n",
       "      <td>0</td>\n",
       "      <td>5</td>\n",
       "      <td>25000</td>\n",
       "      <td>25</td>\n",
       "      <td>margharita</td>\n",
       "    </tr>\n",
       "    <tr>\n",
       "      <th>1</th>\n",
       "      <td>150</td>\n",
       "      <td>1</td>\n",
       "      <td>0</td>\n",
       "      <td>0</td>\n",
       "      <td>2</td>\n",
       "      <td>30000</td>\n",
       "      <td>45</td>\n",
       "      <td>hawaii</td>\n",
       "    </tr>\n",
       "    <tr>\n",
       "      <th>2</th>\n",
       "      <td>250</td>\n",
       "      <td>1</td>\n",
       "      <td>0</td>\n",
       "      <td>0</td>\n",
       "      <td>1</td>\n",
       "      <td>22000</td>\n",
       "      <td>20</td>\n",
       "      <td>carbonara</td>\n",
       "    </tr>\n",
       "    <tr>\n",
       "      <th>3</th>\n",
       "      <td>108</td>\n",
       "      <td>1</td>\n",
       "      <td>0</td>\n",
       "      <td>1</td>\n",
       "      <td>5</td>\n",
       "      <td>20000</td>\n",
       "      <td>28</td>\n",
       "      <td>frutti di mare</td>\n",
       "    </tr>\n",
       "    <tr>\n",
       "      <th>4</th>\n",
       "      <td>220</td>\n",
       "      <td>1</td>\n",
       "      <td>1</td>\n",
       "      <td>1</td>\n",
       "      <td>9</td>\n",
       "      <td>25000</td>\n",
       "      <td>25</td>\n",
       "      <td>margharita</td>\n",
       "    </tr>\n",
       "  </tbody>\n",
       "</table>\n",
       "</div>"
      ],
      "text/plain": [
       "   pizza  gender  city  college  satisfaction  income  age            type\n",
       "0    109       1     0        0             5   25000   25      margharita\n",
       "1    150       1     0        0             2   30000   45          hawaii\n",
       "2    250       1     0        0             1   22000   20       carbonara\n",
       "3    108       1     0        1             5   20000   28  frutti di mare\n",
       "4    220       1     1        1             9   25000   25      margharita"
      ]
     },
     "execution_count": 4,
     "metadata": {},
     "output_type": "execute_result"
    }
   ],
   "source": [
    "import pandas as pd\n",
    "path = 'https://github.com/kflisikowsky/pandas_exercises/raw/6d1bee5449892050aea7be6515489de0c7f33de1/final_exam/pizza.xls'\n",
    "df = pd.read_excel(path)\n",
    "df.head()"
   ]
  }
 ],
 "metadata": {
  "kernelspec": {
   "display_name": "Python 3",
   "language": "python",
   "name": "python3"
  },
  "language_info": {
   "codemirror_mode": {
    "name": "ipython",
    "version": 3
   },
   "file_extension": ".py",
   "mimetype": "text/x-python",
   "name": "python",
   "nbconvert_exporter": "python",
   "pygments_lexer": "ipython3",
   "version": "3.13.2"
  }
 },
 "nbformat": 4,
 "nbformat_minor": 5
}
